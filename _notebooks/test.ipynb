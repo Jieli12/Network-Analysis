{
 "metadata": {
  "language_info": {
   "codemirror_mode": {
    "name": "ipython",
    "version": 3
   },
   "file_extension": ".py",
   "mimetype": "text/x-python",
   "name": "python",
   "nbconvert_exporter": "python",
   "pygments_lexer": "ipython3",
   "version": "3.7.9-final"
  },
  "orig_nbformat": 2,
  "kernelspec": {
   "name": "python3",
   "display_name": "Python 3.7.9 64-bit ('DataScience': conda)",
   "metadata": {
    "interpreter": {
     "hash": "409d83c8ff1c7cd7168737a56655a9795f67d617e794a7fecb8d562d15d51054"
    }
   }
  }
 },
 "nbformat": 4,
 "nbformat_minor": 2,
 "cells": [
  {
   "source": [
    "## Load data\n",
    "The ca-GRQC data comes from [here](http://networkrepository.com/ca-GrQc.php#), using mmread funtion to load data."
   ],
   "cell_type": "markdown",
   "metadata": {}
  },
  {
   "source": [
    "from IPython.core.interactiveshell import InteractiveShell\n",
    "InteractiveShell.ast_node_interactivity = \"all\"\n",
    "from scipy.io import mmread\n",
    "a = mmread('../data/ca-GrQc.mtx')"
   ],
   "cell_type": "code",
   "metadata": {},
   "execution_count": null,
   "outputs": []
  },
  {
   "source": [
    "Note that, the .mtx file has a head line staring with %% or %. **a** is an object of scipy.sparse.coo_matrix."
   ],
   "cell_type": "markdown",
   "metadata": {}
  },
  {
   "source": [
    "We can directly convert scipy.sparse.coo_matrix to Graph object for networkx using nx.Graph(). G.number_of_nodes() shows the number of vetices, i.e., **order**. G.number_of_edges() shows the number of edges, i.e., **size**."
   ],
   "cell_type": "markdown",
   "metadata": {}
  },
  {
   "cell_type": "code",
   "execution_count": null,
   "metadata": {},
   "outputs": [],
   "source": [
    "import networkx as nx\n",
    "G=nx.Graph(a)\n",
    "G.number_of_edges()\n",
    "G.number_of_nodes()"
   ]
  },
  {
   "source": [
    "The default node starts from 0, one can use relabel_nodes() to change the node labels. Below is the usage of relabel_nodes(), note that the mapping function."
   ],
   "cell_type": "markdown",
   "metadata": {}
  },
  {
   "cell_type": "code",
   "execution_count": null,
   "metadata": {},
   "outputs": [],
   "source": [
    "mapping = dict(zip(G, range(1, G.number_of_nodes()+1)))\n",
    "G = nx.relabel_nodes(G, mapping)\n",
    "sorted(G)[:3]"
   ]
  },
  {
   "source": [
    "Clearly, the node's label starts from 1."
   ],
   "cell_type": "markdown",
   "metadata": {}
  },
  {
   "cell_type": "code",
   "execution_count": null,
   "metadata": {},
   "outputs": [],
   "source": [
    "nx.is_weighted(G)\n",
    "nx.is_directed(G)"
   ]
  },
  {
   "source": [
    "## Show the Graph"
   ],
   "cell_type": "markdown",
   "metadata": {}
  },
  {
   "source": [
    "The graph **G** is too huge to display. Here, we first extract a subgraph, then show it."
   ],
   "cell_type": "markdown",
   "metadata": {}
  },
  {
   "cell_type": "code",
   "execution_count": null,
   "metadata": {},
   "outputs": [],
   "source": [
    "node_degree_max = max(dict(G.degree()).items(), key=lambda x: x[1])\n",
    "node_edges = G.edges(node_degree_max[0])\n"
   ]
  },
  {
   "cell_type": "code",
   "execution_count": null,
   "metadata": {},
   "outputs": [],
   "source": [
    "import numpy as np \n",
    "a = [n for n in G.neighbors(node_degree_max[0])]\n",
    "a.append(node_degree_max[0])\n",
    "\n",
    "H = G.subgraph(a)\n",
    "import matplotlib.pyplot as plt \n",
    "nx.draw(H)\n"
   ]
  },
  {
   "cell_type": "code",
   "execution_count": null,
   "metadata": {},
   "outputs": [],
   "source": [
    "# or using the subgraph method\n",
    "node_sub = list(G.nodes())[:100]\n",
    "a = nx.adjacency_matrix(H1)\n",
    "print(a)\n",
    "H1 = nx.subgraph(G, node_sub)\n",
    "nx.draw(H1)\n",
    "plt.show()"
   ]
  },
  {
   "source": [
    "There is another example to find the node with largest degree, see [here](https://networkx.org/documentation/stable//auto_examples/drawing/plot_ego_graph.html#sphx-glr-auto-examples-drawing-plot-ego-graph-py)"
   ],
   "cell_type": "markdown",
   "metadata": {}
  },
  {
   "cell_type": "code",
   "execution_count": null,
   "metadata": {},
   "outputs": [],
   "source": [
    "from operator import itemgetter\n",
    "node_and_degree = G.degree()\n",
    "(largest_hub, degree) = sorted(node_and_degree, key=itemgetter(1))[-1]\n",
    "# Create ego graph of main hub\n",
    "hub_ego = nx.ego_graph(G, largest_hub)\n",
    "# Draw graph\n",
    "pos = nx.spring_layout(hub_ego)\n",
    "nx.draw(hub_ego, pos, node_color=\"b\", node_size=50, with_labels=False)\n",
    "# Draw ego as large and red\n",
    "options = {\"node_size\": 300, \"node_color\": \"r\"}\n",
    "nx.draw_networkx_nodes(hub_ego, pos, nodelist=[largest_hub], **options)\n",
    "plt.show()"
   ]
  },
  {
   "source": [
    "## Find all simple paths given start and target vertices"
   ],
   "cell_type": "markdown",
   "metadata": {}
  },
  {
   "cell_type": "code",
   "execution_count": null,
   "metadata": {
    "tags": []
   },
   "outputs": [],
   "source": [
    "for path in nx.all_simple_paths(H, source=45, target=67, cutoff=3):\n",
    "...     print(path)"
   ]
  },
  {
   "source": [
    "In fact, this code finds all walks, the \"path\" in function name means walks. Let cutoff = 3 to reduce the volume of output. **Note that** A simple path in a graph is a nonempty sequence of nodes in which no node appears more than once in the sequence, and each adjacent pair of nodes in the sequence is adjacent in the graph."
   ],
   "cell_type": "markdown",
   "metadata": {}
  },
  {
   "source": [
    "## List all the shortes path"
   ],
   "cell_type": "markdown",
   "metadata": {}
  },
  {
   "source": [
    "### k shortest/best paths between two nodes"
   ],
   "cell_type": "markdown",
   "metadata": {}
  },
  {
   "cell_type": "code",
   "execution_count": null,
   "metadata": {},
   "outputs": [],
   "source": [
    "from itertools import islice # based on algorithm by Jin Y. Yen(1971)\n",
    "def k_shortest_paths(G, source, target, k, weight=None):\n",
    "    return list(\n",
    "        islice(nx.shortest_simple_paths(G, source, target, weight=weight), k)\n",
    "    )\n",
    "for path in k_shortest_paths(H, source=45, target=67, k=5):\n",
    "    print(path)"
   ]
  },
  {
   "cell_type": "code",
   "execution_count": null,
   "metadata": {},
   "outputs": [],
   "source": [
    "print(nx.shortest_path(H, source=45, target=67)) # dijkstra method"
   ]
  },
  {
   "source": [
    "### Highlight any existing path"
   ],
   "cell_type": "markdown",
   "metadata": {}
  },
  {
   "cell_type": "code",
   "execution_count": null,
   "metadata": {},
   "outputs": [],
   "source": [
    "path = list([45, 3614, 67])\n",
    "path_edges = list(zip(path,path[1:]))\n",
    "nx.draw(H,node_size=10,node_color='k')\n",
    "pos = nx.spring_layout(H)\n",
    "nx.draw(H,pos,node_color='k',node_size=10)\n",
    "nx.draw_networkx_nodes(H,pos,nodelist=path,node_color='r',node_size=10)\n",
    "nx.draw_networkx_edges(H,pos,edgelist=path_edges,edge_color='r',width=2)\n",
    "plt.axis('equal')\n",
    "plt.show()"
   ]
  },
  {
   "source": [
    "### Find the shortes path for any two nodes"
   ],
   "cell_type": "markdown",
   "metadata": {}
  },
  {
   "cell_type": "code",
   "execution_count": null,
   "metadata": {},
   "outputs": [],
   "source": [
    "source = 1\n",
    "target = 3333\n",
    "if nx.has_path(G,source,target): # judge the path existence\n",
    "    print(nx.shortest_path(G, source=source,    target=target))\n",
    "# another way for digraph\n",
    "# from networkx.algorithms import tournament\n",
    "# tournament.is_reachable(G,source,target)"
   ]
  },
  {
   "source": [
    "### Connected"
   ],
   "cell_type": "markdown",
   "metadata": {}
  },
  {
   "cell_type": "code",
   "execution_count": null,
   "metadata": {},
   "outputs": [],
   "source": [
    "nx.is_connected(G)\n",
    "nx.number_connected_components(G)"
   ]
  },
  {
   "cell_type": "code",
   "execution_count": null,
   "metadata": {},
   "outputs": [],
   "source": [
    "from networkx.algorithms.distance_measures import resistance_distance\n",
    "resistance_distance(G, source, target) # compute the resistance distance"
   ]
  },
  {
   "cell_type": "code",
   "execution_count": null,
   "metadata": {},
   "outputs": [],
   "source": [
    "from networkx.algorithms.distance_measures import diameter\n",
    "diameter(G) # compute the diameter of a Graph"
   ]
  },
  {
   "cell_type": "code",
   "execution_count": null,
   "metadata": {},
   "outputs": [],
   "source": [
    "print(nx.shortest_path_length(G,source,target)) #compute the distance of two nodes"
   ]
  },
  {
   "cell_type": "code",
   "execution_count": null,
   "metadata": {},
   "outputs": [],
   "source": []
  }
 ]
}
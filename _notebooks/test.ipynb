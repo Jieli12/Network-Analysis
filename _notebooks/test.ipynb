{
 "metadata": {
  "language_info": {
   "codemirror_mode": {
    "name": "ipython",
    "version": 3
   },
   "file_extension": ".py",
   "mimetype": "text/x-python",
   "name": "python",
   "nbconvert_exporter": "python",
   "pygments_lexer": "ipython3",
   "version": "3.7.9"
  },
  "orig_nbformat": 2,
  "kernelspec": {
   "name": "python3",
   "display_name": "Python 3.7.9 64-bit ('DataScience': conda)",
   "metadata": {
    "interpreter": {
     "hash": "409d83c8ff1c7cd7168737a56655a9795f67d617e794a7fecb8d562d15d51054"
    }
   }
  }
 },
 "nbformat": 4,
 "nbformat_minor": 2,
 "cells": [
  {
   "source": [
    "## Load data\n",
    "The ca-GRQC data comes from [here](http://networkrepository.com/ca-GrQc.php#), using mmread funtion to load data."
   ],
   "cell_type": "markdown",
   "metadata": {}
  },
  {
   "source": [
    "from IPython.core.interactiveshell import InteractiveShell\n",
    "InteractiveShell.ast_node_interactivity = \"all\"\n",
    "from scipy.io import mmread\n",
    "a = mmread('../data/ca-GrQc.mtx')"
   ],
   "cell_type": "code",
   "metadata": {},
   "execution_count": 9,
   "outputs": []
  },
  {
   "source": [
    "Note that, the .mtx file has a head line staring with %% or %. a is an object of scipy.sparse.coo_matrix."
   ],
   "cell_type": "markdown",
   "metadata": {}
  },
  {
   "source": [
    "We can directly convert scipy.sparse.coo_matrix to Graph object for networkx using nx.Graph(). G.number_of_nodes() shows the number of vetices, i.e., **order**. G.number_of_edges() shows the number of edges, i.e., **size**."
   ],
   "cell_type": "markdown",
   "metadata": {}
  },
  {
   "cell_type": "code",
   "execution_count": 13,
   "metadata": {},
   "outputs": [
    {
     "output_type": "execute_result",
     "data": {
      "text/plain": [
       "13422"
      ]
     },
     "metadata": {},
     "execution_count": 13
    },
    {
     "output_type": "execute_result",
     "data": {
      "text/plain": [
       "4158"
      ]
     },
     "metadata": {},
     "execution_count": 13
    }
   ],
   "source": [
    "import networkx as nx\n",
    "G=nx.Graph(a)\n",
    "G.number_of_edges()\n",
    "G.number_of_nodes()"
   ]
  },
  {
   "source": [
    "The default node starts from 0, one can use relabel_nodes() to change the node labels. Below is the usage of relabel_nodes(), note that the mapping function."
   ],
   "cell_type": "markdown",
   "metadata": {}
  },
  {
   "cell_type": "code",
   "execution_count": 11,
   "metadata": {},
   "outputs": [
    {
     "output_type": "execute_result",
     "data": {
      "text/plain": [
       "[1, 2, 3]"
      ]
     },
     "metadata": {},
     "execution_count": 11
    }
   ],
   "source": [
    "mapping = dict(zip(G, range(1, G.number_of_nodes()+1)))\n",
    "G = nx.relabel_nodes(G, mapping)\n",
    "sorted(G)[:3]"
   ]
  },
  {
   "source": [
    "Clearly, the node's label starts from 1."
   ],
   "cell_type": "markdown",
   "metadata": {}
  },
  {
   "cell_type": "code",
   "execution_count": 12,
   "metadata": {},
   "outputs": [
    {
     "output_type": "execute_result",
     "data": {
      "text/plain": [
       "True"
      ]
     },
     "metadata": {},
     "execution_count": 12
    },
    {
     "output_type": "execute_result",
     "data": {
      "text/plain": [
       "False"
      ]
     },
     "metadata": {},
     "execution_count": 12
    }
   ],
   "source": [
    "nx.is_weighted(G)\n",
    "nx.is_directed(G)"
   ]
  },
  {
   "cell_type": "code",
   "execution_count": null,
   "metadata": {},
   "outputs": [],
   "source": []
  }
 ]
}